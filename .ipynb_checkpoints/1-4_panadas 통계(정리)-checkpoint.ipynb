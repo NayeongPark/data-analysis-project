{
 "cells": [
  {
   "cell_type": "markdown",
   "id": "fc2e5927-9d64-4598-86dc-91799130c593",
   "metadata": {},
   "source": [
    "## import"
   ]
  },
  {
   "cell_type": "code",
   "execution_count": 2,
   "id": "50322dfc-7680-4376-9560-0ec0f60e6ef5",
   "metadata": {},
   "outputs": [],
   "source": [
    "from IPython.display import Image\n",
    "import numpy as np\n",
    "import pandas as pd\n",
    "import seaborn as sns\n",
    "import warnings\n",
    "\n",
    "warnings.filterwarnings('ignore')"
   ]
  },
  {
   "cell_type": "code",
   "execution_count": 7,
   "id": "bf8b6c09-2794-4d9a-b442-568738dc7593",
   "metadata": {},
   "outputs": [
    {
     "data": {
      "text/html": [
       "<div>\n",
       "<style scoped>\n",
       "    .dataframe tbody tr th:only-of-type {\n",
       "        vertical-align: middle;\n",
       "    }\n",
       "\n",
       "    .dataframe tbody tr th {\n",
       "        vertical-align: top;\n",
       "    }\n",
       "\n",
       "    .dataframe thead th {\n",
       "        text-align: right;\n",
       "    }\n",
       "</style>\n",
       "<table border=\"1\" class=\"dataframe\">\n",
       "  <thead>\n",
       "    <tr style=\"text-align: right;\">\n",
       "      <th></th>\n",
       "      <th>pclass</th>\n",
       "      <th>survived</th>\n",
       "      <th>sex</th>\n",
       "      <th>age</th>\n",
       "      <th>sibsp</th>\n",
       "      <th>parch</th>\n",
       "      <th>ticket</th>\n",
       "      <th>fare</th>\n",
       "      <th>cabin</th>\n",
       "      <th>embarked</th>\n",
       "      <th>boat</th>\n",
       "      <th>body</th>\n",
       "    </tr>\n",
       "  </thead>\n",
       "  <tbody>\n",
       "    <tr>\n",
       "      <th>0</th>\n",
       "      <td>1</td>\n",
       "      <td>1</td>\n",
       "      <td>female</td>\n",
       "      <td>29.0000</td>\n",
       "      <td>0</td>\n",
       "      <td>0</td>\n",
       "      <td>24160</td>\n",
       "      <td>211.3375</td>\n",
       "      <td>B5</td>\n",
       "      <td>S</td>\n",
       "      <td>2</td>\n",
       "      <td>NaN</td>\n",
       "    </tr>\n",
       "    <tr>\n",
       "      <th>1</th>\n",
       "      <td>1</td>\n",
       "      <td>1</td>\n",
       "      <td>male</td>\n",
       "      <td>0.9167</td>\n",
       "      <td>1</td>\n",
       "      <td>2</td>\n",
       "      <td>113781</td>\n",
       "      <td>151.5500</td>\n",
       "      <td>C22 C26</td>\n",
       "      <td>S</td>\n",
       "      <td>11</td>\n",
       "      <td>NaN</td>\n",
       "    </tr>\n",
       "    <tr>\n",
       "      <th>2</th>\n",
       "      <td>1</td>\n",
       "      <td>0</td>\n",
       "      <td>female</td>\n",
       "      <td>2.0000</td>\n",
       "      <td>1</td>\n",
       "      <td>2</td>\n",
       "      <td>113781</td>\n",
       "      <td>151.5500</td>\n",
       "      <td>C22 C26</td>\n",
       "      <td>S</td>\n",
       "      <td>NaN</td>\n",
       "      <td>NaN</td>\n",
       "    </tr>\n",
       "    <tr>\n",
       "      <th>3</th>\n",
       "      <td>1</td>\n",
       "      <td>0</td>\n",
       "      <td>male</td>\n",
       "      <td>30.0000</td>\n",
       "      <td>1</td>\n",
       "      <td>2</td>\n",
       "      <td>113781</td>\n",
       "      <td>151.5500</td>\n",
       "      <td>C22 C26</td>\n",
       "      <td>S</td>\n",
       "      <td>NaN</td>\n",
       "      <td>135.0</td>\n",
       "    </tr>\n",
       "    <tr>\n",
       "      <th>4</th>\n",
       "      <td>1</td>\n",
       "      <td>0</td>\n",
       "      <td>female</td>\n",
       "      <td>25.0000</td>\n",
       "      <td>1</td>\n",
       "      <td>2</td>\n",
       "      <td>113781</td>\n",
       "      <td>151.5500</td>\n",
       "      <td>C22 C26</td>\n",
       "      <td>S</td>\n",
       "      <td>NaN</td>\n",
       "      <td>NaN</td>\n",
       "    </tr>\n",
       "  </tbody>\n",
       "</table>\n",
       "</div>"
      ],
      "text/plain": [
       "   pclass  survived     sex      age  sibsp  parch  ticket      fare    cabin  \\\n",
       "0       1         1  female  29.0000      0      0   24160  211.3375       B5   \n",
       "1       1         1    male   0.9167      1      2  113781  151.5500  C22 C26   \n",
       "2       1         0  female   2.0000      1      2  113781  151.5500  C22 C26   \n",
       "3       1         0    male  30.0000      1      2  113781  151.5500  C22 C26   \n",
       "4       1         0  female  25.0000      1      2  113781  151.5500  C22 C26   \n",
       "\n",
       "  embarked boat   body  \n",
       "0        S    2    NaN  \n",
       "1        S   11    NaN  \n",
       "2        S  NaN    NaN  \n",
       "3        S  NaN  135.0  \n",
       "4        S  NaN    NaN  "
      ]
     },
     "execution_count": 7,
     "metadata": {},
     "output_type": "execute_result"
    }
   ],
   "source": [
    "df = pd.read_excel('C:/Users/박나영/Desktop/SK AI Dream Camp/titanic.xlsx')\n",
    "df.head()"
   ]
  },
  {
   "cell_type": "markdown",
   "id": "24a80df5-7783-4f9c-abb9-4c704dda999a",
   "metadata": {},
   "source": [
    "## 통계"
   ]
  },
  {
   "cell_type": "code",
   "execution_count": 8,
   "id": "1555c1bb-6d7c-4b52-a228-075bf1033df1",
   "metadata": {},
   "outputs": [
    {
     "data": {
      "text/html": [
       "<div>\n",
       "<style scoped>\n",
       "    .dataframe tbody tr th:only-of-type {\n",
       "        vertical-align: middle;\n",
       "    }\n",
       "\n",
       "    .dataframe tbody tr th {\n",
       "        vertical-align: top;\n",
       "    }\n",
       "\n",
       "    .dataframe thead th {\n",
       "        text-align: right;\n",
       "    }\n",
       "</style>\n",
       "<table border=\"1\" class=\"dataframe\">\n",
       "  <thead>\n",
       "    <tr style=\"text-align: right;\">\n",
       "      <th></th>\n",
       "      <th>pclass</th>\n",
       "      <th>survived</th>\n",
       "      <th>age</th>\n",
       "      <th>sibsp</th>\n",
       "      <th>parch</th>\n",
       "      <th>fare</th>\n",
       "      <th>body</th>\n",
       "    </tr>\n",
       "  </thead>\n",
       "  <tbody>\n",
       "    <tr>\n",
       "      <th>count</th>\n",
       "      <td>1309.000000</td>\n",
       "      <td>1309.000000</td>\n",
       "      <td>1046.000000</td>\n",
       "      <td>1309.000000</td>\n",
       "      <td>1309.000000</td>\n",
       "      <td>1308.000000</td>\n",
       "      <td>121.000000</td>\n",
       "    </tr>\n",
       "    <tr>\n",
       "      <th>mean</th>\n",
       "      <td>2.294882</td>\n",
       "      <td>0.381971</td>\n",
       "      <td>29.881135</td>\n",
       "      <td>0.498854</td>\n",
       "      <td>0.385027</td>\n",
       "      <td>33.295479</td>\n",
       "      <td>160.809917</td>\n",
       "    </tr>\n",
       "    <tr>\n",
       "      <th>std</th>\n",
       "      <td>0.837836</td>\n",
       "      <td>0.486055</td>\n",
       "      <td>14.413500</td>\n",
       "      <td>1.041658</td>\n",
       "      <td>0.865560</td>\n",
       "      <td>51.758668</td>\n",
       "      <td>97.696922</td>\n",
       "    </tr>\n",
       "    <tr>\n",
       "      <th>min</th>\n",
       "      <td>1.000000</td>\n",
       "      <td>0.000000</td>\n",
       "      <td>0.166700</td>\n",
       "      <td>0.000000</td>\n",
       "      <td>0.000000</td>\n",
       "      <td>0.000000</td>\n",
       "      <td>1.000000</td>\n",
       "    </tr>\n",
       "    <tr>\n",
       "      <th>25%</th>\n",
       "      <td>2.000000</td>\n",
       "      <td>0.000000</td>\n",
       "      <td>21.000000</td>\n",
       "      <td>0.000000</td>\n",
       "      <td>0.000000</td>\n",
       "      <td>7.895800</td>\n",
       "      <td>72.000000</td>\n",
       "    </tr>\n",
       "    <tr>\n",
       "      <th>50%</th>\n",
       "      <td>3.000000</td>\n",
       "      <td>0.000000</td>\n",
       "      <td>28.000000</td>\n",
       "      <td>0.000000</td>\n",
       "      <td>0.000000</td>\n",
       "      <td>14.454200</td>\n",
       "      <td>155.000000</td>\n",
       "    </tr>\n",
       "    <tr>\n",
       "      <th>75%</th>\n",
       "      <td>3.000000</td>\n",
       "      <td>1.000000</td>\n",
       "      <td>39.000000</td>\n",
       "      <td>1.000000</td>\n",
       "      <td>0.000000</td>\n",
       "      <td>31.275000</td>\n",
       "      <td>256.000000</td>\n",
       "    </tr>\n",
       "    <tr>\n",
       "      <th>max</th>\n",
       "      <td>3.000000</td>\n",
       "      <td>1.000000</td>\n",
       "      <td>80.000000</td>\n",
       "      <td>8.000000</td>\n",
       "      <td>9.000000</td>\n",
       "      <td>512.329200</td>\n",
       "      <td>328.000000</td>\n",
       "    </tr>\n",
       "  </tbody>\n",
       "</table>\n",
       "</div>"
      ],
      "text/plain": [
       "            pclass     survived          age        sibsp        parch  \\\n",
       "count  1309.000000  1309.000000  1046.000000  1309.000000  1309.000000   \n",
       "mean      2.294882     0.381971    29.881135     0.498854     0.385027   \n",
       "std       0.837836     0.486055    14.413500     1.041658     0.865560   \n",
       "min       1.000000     0.000000     0.166700     0.000000     0.000000   \n",
       "25%       2.000000     0.000000    21.000000     0.000000     0.000000   \n",
       "50%       3.000000     0.000000    28.000000     0.000000     0.000000   \n",
       "75%       3.000000     1.000000    39.000000     1.000000     0.000000   \n",
       "max       3.000000     1.000000    80.000000     8.000000     9.000000   \n",
       "\n",
       "              fare        body  \n",
       "count  1308.000000  121.000000  \n",
       "mean     33.295479  160.809917  \n",
       "std      51.758668   97.696922  \n",
       "min       0.000000    1.000000  \n",
       "25%       7.895800   72.000000  \n",
       "50%      14.454200  155.000000  \n",
       "75%      31.275000  256.000000  \n",
       "max     512.329200  328.000000  "
      ]
     },
     "execution_count": 8,
     "metadata": {},
     "output_type": "execute_result"
    }
   ],
   "source": [
    "df.describe()"
   ]
  },
  {
   "cell_type": "code",
   "execution_count": 16,
   "id": "83b3191c-7130-43a8-bf8f-572440b392cc",
   "metadata": {},
   "outputs": [
    {
     "data": {
      "text/html": [
       "<div>\n",
       "<style scoped>\n",
       "    .dataframe tbody tr th:only-of-type {\n",
       "        vertical-align: middle;\n",
       "    }\n",
       "\n",
       "    .dataframe tbody tr th {\n",
       "        vertical-align: top;\n",
       "    }\n",
       "\n",
       "    .dataframe thead th {\n",
       "        text-align: right;\n",
       "    }\n",
       "</style>\n",
       "<table border=\"1\" class=\"dataframe\">\n",
       "  <thead>\n",
       "    <tr style=\"text-align: right;\">\n",
       "      <th></th>\n",
       "      <th>sex</th>\n",
       "      <th>ticket</th>\n",
       "      <th>cabin</th>\n",
       "      <th>embarked</th>\n",
       "      <th>boat</th>\n",
       "    </tr>\n",
       "  </thead>\n",
       "  <tbody>\n",
       "    <tr>\n",
       "      <th>count</th>\n",
       "      <td>1309</td>\n",
       "      <td>1309</td>\n",
       "      <td>295</td>\n",
       "      <td>1307</td>\n",
       "      <td>486</td>\n",
       "    </tr>\n",
       "    <tr>\n",
       "      <th>unique</th>\n",
       "      <td>2</td>\n",
       "      <td>939</td>\n",
       "      <td>186</td>\n",
       "      <td>3</td>\n",
       "      <td>28</td>\n",
       "    </tr>\n",
       "    <tr>\n",
       "      <th>top</th>\n",
       "      <td>male</td>\n",
       "      <td>CA. 2343</td>\n",
       "      <td>C23 C25 C27</td>\n",
       "      <td>S</td>\n",
       "      <td>13</td>\n",
       "    </tr>\n",
       "    <tr>\n",
       "      <th>freq</th>\n",
       "      <td>843</td>\n",
       "      <td>11</td>\n",
       "      <td>6</td>\n",
       "      <td>914</td>\n",
       "      <td>39</td>\n",
       "    </tr>\n",
       "  </tbody>\n",
       "</table>\n",
       "</div>"
      ],
      "text/plain": [
       "         sex    ticket        cabin embarked boat\n",
       "count   1309      1309          295     1307  486\n",
       "unique     2       939          186        3   28\n",
       "top     male  CA. 2343  C23 C25 C27        S   13\n",
       "freq     843        11            6      914   39"
      ]
     },
     "execution_count": 16,
     "metadata": {},
     "output_type": "execute_result"
    }
   ],
   "source": [
    "df.describe(include = 'object')\n",
    "\n",
    "#unique: 고유 데이터의 값 개수\n",
    "#top: 가장 많이 출현한 데이터 개수\n",
    "#freq: 가장 많이 출현한 데이터의 빈도수"
   ]
  },
  {
   "cell_type": "code",
   "execution_count": 9,
   "id": "7957c987-9223-43e7-a057-3995352ee248",
   "metadata": {},
   "outputs": [
    {
     "data": {
      "text/plain": [
       "pclass      1309\n",
       "survived    1309\n",
       "sex         1309\n",
       "age         1046\n",
       "sibsp       1309\n",
       "parch       1309\n",
       "ticket      1309\n",
       "fare        1308\n",
       "cabin        295\n",
       "embarked    1307\n",
       "boat         486\n",
       "body         121\n",
       "dtype: int64"
      ]
     },
     "execution_count": 9,
     "metadata": {},
     "output_type": "execute_result"
    }
   ],
   "source": [
    "df.count()"
   ]
  },
  {
   "cell_type": "markdown",
   "id": "4c127838-f9e1-4f8a-be89-6b0e58c9eadf",
   "metadata": {},
   "source": [
    "## mean"
   ]
  },
  {
   "cell_type": "code",
   "execution_count": 13,
   "id": "e93b5d43-5ec4-44cc-9f50-b15dbba8fda2",
   "metadata": {},
   "outputs": [
    {
     "data": {
      "text/plain": [
       "np.float64(29.8811345124283)"
      ]
     },
     "execution_count": 13,
     "metadata": {},
     "output_type": "execute_result"
    }
   ],
   "source": [
    "df['age'].mean()"
   ]
  },
  {
   "cell_type": "code",
   "execution_count": 17,
   "id": "7e7723b1-7ef6-48d1-914a-dcad3820e6c9",
   "metadata": {},
   "outputs": [
    {
     "data": {
      "text/plain": [
       "np.float64(30.5852329787234)"
      ]
     },
     "execution_count": 17,
     "metadata": {},
     "output_type": "execute_result"
    }
   ],
   "source": [
    "con = (df['sex'] == 'male')\n",
    "df.loc[con, 'age'].mean()"
   ]
  },
  {
   "cell_type": "markdown",
   "id": "dc951cee-8905-4903-8d1b-21ab23949c36",
   "metadata": {},
   "source": [
    "## skipna = True 기본 값 = Nan 값이 있을 때 이를 제외하고 평균산출"
   ]
  },
  {
   "cell_type": "code",
   "execution_count": 18,
   "id": "7728e9a8-3f3e-4edd-9566-ab83b1a82391",
   "metadata": {},
   "outputs": [
    {
     "data": {
      "text/plain": [
       "np.float64(nan)"
      ]
     },
     "execution_count": 18,
     "metadata": {},
     "output_type": "execute_result"
    }
   ],
   "source": [
    "df['age'].mean(skipna=False)"
   ]
  },
  {
   "cell_type": "markdown",
   "id": "253bfcb6-a280-4534-b7cc-c3b9d30941c3",
   "metadata": {},
   "source": [
    "## median"
   ]
  },
  {
   "cell_type": "code",
   "execution_count": 20,
   "id": "7295a467-70cc-480d-b447-5a01633c0e4d",
   "metadata": {},
   "outputs": [
    {
     "data": {
      "text/plain": [
       "np.float64(4.5)"
      ]
     },
     "execution_count": 20,
     "metadata": {},
     "output_type": "execute_result"
    }
   ],
   "source": [
    "pd.Series([3,4,2,6,5, 7]).median()"
   ]
  },
  {
   "cell_type": "code",
   "execution_count": 23,
   "id": "91653b90-5c76-4e0a-b65c-2c43d79b7582",
   "metadata": {},
   "outputs": [
    {
     "name": "stdout",
     "output_type": "stream",
     "text": [
      "나이 평균 : 29.88113\n",
      "나이 중앙값 : 28.00000\n"
     ]
    }
   ],
   "source": [
    "print(f'나이 평균 : {df['age'].mean():.5f}')\n",
    "print(f'나이 중앙값 : {df['age'].median():.5f}')"
   ]
  },
  {
   "cell_type": "markdown",
   "id": "2501077e-b0e4-4ccb-9f96-3c1c57db3a48",
   "metadata": {},
   "source": [
    "## sum - 데이터 합계"
   ]
  },
  {
   "cell_type": "code",
   "execution_count": 24,
   "id": "71304f88-b4b1-4e11-8ce0-1512ade931df",
   "metadata": {},
   "outputs": [
    {
     "data": {
      "text/plain": [
       "np.float64(31255.6667)"
      ]
     },
     "execution_count": 24,
     "metadata": {},
     "output_type": "execute_result"
    }
   ],
   "source": [
    "df.loc[:, 'age'].sum()"
   ]
  },
  {
   "cell_type": "code",
   "execution_count": 25,
   "id": "10ab8682-4920-4b4e-ace4-405ca8f814eb",
   "metadata": {},
   "outputs": [
    {
     "data": {
      "text/plain": [
       "0          29.0000\n",
       "1          29.9167\n",
       "2          31.9167\n",
       "3          61.9167\n",
       "4          86.9167\n",
       "           ...    \n",
       "1304    31173.1667\n",
       "1305           NaN\n",
       "1306    31199.6667\n",
       "1307    31226.6667\n",
       "1308    31255.6667\n",
       "Name: age, Length: 1309, dtype: float64"
      ]
     },
     "execution_count": 25,
     "metadata": {},
     "output_type": "execute_result"
    }
   ],
   "source": [
    "#누적 합\n",
    "df['age'].cumsum()"
   ]
  },
  {
   "cell_type": "code",
   "execution_count": 26,
   "id": "5b265f61-252f-478c-84af-cfe6058ab7a0",
   "metadata": {},
   "outputs": [
    {
     "data": {
      "text/plain": [
       "0          29.0000\n",
       "1          26.5843\n",
       "2          53.1686\n",
       "3        1595.0580\n",
       "4       39876.4500\n",
       "           ...    \n",
       "1304           inf\n",
       "1305           NaN\n",
       "1306           inf\n",
       "1307           inf\n",
       "1308           inf\n",
       "Name: age, Length: 1309, dtype: float64"
      ]
     },
     "execution_count": 26,
     "metadata": {},
     "output_type": "execute_result"
    }
   ],
   "source": [
    "# 누적 곱\n",
    "df['age'].cumprod()"
   ]
  },
  {
   "cell_type": "markdown",
   "id": "f3a12bf8-5984-43ae-b1e3-456ee80cf86c",
   "metadata": {},
   "source": [
    "## 평균, 분산, 표준편차, 최대, 최소"
   ]
  },
  {
   "cell_type": "code",
   "execution_count": 30,
   "id": "3105c87c-fbaf-485d-9573-5d281edbbf83",
   "metadata": {},
   "outputs": [
    {
     "data": {
      "text/plain": [
       "np.float64(33.29547928134557)"
      ]
     },
     "execution_count": 30,
     "metadata": {},
     "output_type": "execute_result"
    }
   ],
   "source": [
    "df['fare'].mean()"
   ]
  },
  {
   "cell_type": "code",
   "execution_count": 31,
   "id": "30173733-654a-4ccf-9054-d35df7d8e830",
   "metadata": {},
   "outputs": [
    {
     "data": {
      "text/plain": [
       "np.float64(2678.959737892891)"
      ]
     },
     "execution_count": 31,
     "metadata": {},
     "output_type": "execute_result"
    }
   ],
   "source": [
    "df['fare'].var()"
   ]
  },
  {
   "cell_type": "code",
   "execution_count": 32,
   "id": "936bbc29-dd36-4ac9-a6cb-8e85c0011319",
   "metadata": {},
   "outputs": [
    {
     "data": {
      "text/plain": [
       "np.float64(51.75866823917411)"
      ]
     },
     "execution_count": 32,
     "metadata": {},
     "output_type": "execute_result"
    }
   ],
   "source": [
    "df['fare'].std()"
   ]
  },
  {
   "cell_type": "code",
   "execution_count": 33,
   "id": "d7ba9634-5659-4460-9160-4862f4a90fca",
   "metadata": {},
   "outputs": [
    {
     "data": {
      "text/plain": [
       "np.float64(0.1667)"
      ]
     },
     "execution_count": 33,
     "metadata": {},
     "output_type": "execute_result"
    }
   ],
   "source": [
    "df['age'].min()"
   ]
  },
  {
   "cell_type": "code",
   "execution_count": 34,
   "id": "2e198e3f-28d5-4d63-93cc-ac2564fd08a4",
   "metadata": {},
   "outputs": [
    {
     "data": {
      "text/plain": [
       "np.float64(80.0)"
      ]
     },
     "execution_count": 34,
     "metadata": {},
     "output_type": "execute_result"
    }
   ],
   "source": [
    "df['age'].max()"
   ]
  },
  {
   "cell_type": "markdown",
   "id": "8836dd20-06a9-4f59-b450-c83cbb44bbfc",
   "metadata": {},
   "source": [
    "## agg"
   ]
  },
  {
   "cell_type": "code",
   "execution_count": 35,
   "id": "a6d81e64-e26f-4332-9614-e7da6c932a2a",
   "metadata": {},
   "outputs": [
    {
     "data": {
      "text/plain": [
       "min      0.000000\n",
       "max    512.329200\n",
       "std     51.758668\n",
       "Name: fare, dtype: float64"
      ]
     },
     "execution_count": 35,
     "metadata": {},
     "output_type": "execute_result"
    }
   ],
   "source": [
    "df['fare'].agg(['min', 'max','std'])"
   ]
  },
  {
   "cell_type": "code",
   "execution_count": 37,
   "id": "947ace1b-34a1-4073-be3f-5ca0d791e094",
   "metadata": {},
   "outputs": [
    {
     "data": {
      "text/html": [
       "<div>\n",
       "<style scoped>\n",
       "    .dataframe tbody tr th:only-of-type {\n",
       "        vertical-align: middle;\n",
       "    }\n",
       "\n",
       "    .dataframe tbody tr th {\n",
       "        vertical-align: top;\n",
       "    }\n",
       "\n",
       "    .dataframe thead th {\n",
       "        text-align: right;\n",
       "    }\n",
       "</style>\n",
       "<table border=\"1\" class=\"dataframe\">\n",
       "  <thead>\n",
       "    <tr style=\"text-align: right;\">\n",
       "      <th></th>\n",
       "      <th>age</th>\n",
       "      <th>fare</th>\n",
       "    </tr>\n",
       "  </thead>\n",
       "  <tbody>\n",
       "    <tr>\n",
       "      <th>min</th>\n",
       "      <td>0.1667</td>\n",
       "      <td>0.0000</td>\n",
       "    </tr>\n",
       "    <tr>\n",
       "      <th>max</th>\n",
       "      <td>80.0000</td>\n",
       "      <td>512.3292</td>\n",
       "    </tr>\n",
       "  </tbody>\n",
       "</table>\n",
       "</div>"
      ],
      "text/plain": [
       "         age      fare\n",
       "min   0.1667    0.0000\n",
       "max  80.0000  512.3292"
      ]
     },
     "execution_count": 37,
     "metadata": {},
     "output_type": "execute_result"
    }
   ],
   "source": [
    "df[['age', 'fare']].agg(['min', 'max'])"
   ]
  },
  {
   "cell_type": "markdown",
   "id": "3e2b0685-1c27-46ff-8679-50eee0b389fc",
   "metadata": {},
   "source": [
    "## quantile - 분위, 오름차순 정리에서 = 하위 nn%에 해당"
   ]
  },
  {
   "cell_type": "code",
   "execution_count": 38,
   "id": "5f6f923d-2cd4-47a6-9bcb-46b6481e8ad0",
   "metadata": {},
   "outputs": [
    {
     "data": {
      "text/plain": [
       "np.float64(7.567500000000001)"
      ]
     },
     "execution_count": 38,
     "metadata": {},
     "output_type": "execute_result"
    }
   ],
   "source": [
    "df['fare'].quantile(0.1)"
   ]
  },
  {
   "cell_type": "code",
   "execution_count": 39,
   "id": "92896d71-37b6-4dcb-b18a-11a59fa06e50",
   "metadata": {},
   "outputs": [
    {
     "data": {
      "text/plain": [
       "np.float64(41.5792)"
      ]
     },
     "execution_count": 39,
     "metadata": {},
     "output_type": "execute_result"
    }
   ],
   "source": [
    "df['fare'].quantile(0.8)"
   ]
  },
  {
   "cell_type": "markdown",
   "id": "a7773603-c57e-41bb-a7b0-ab75f1cb0753",
   "metadata": {},
   "source": [
    "## unique() - 고유값, nunique() - 고유값 개수"
   ]
  },
  {
   "cell_type": "code",
   "execution_count": 40,
   "id": "d2986b7e-ef47-4159-8f3e-ee047a2f2863",
   "metadata": {},
   "outputs": [
    {
     "data": {
      "text/plain": [
       "array(['female', 'male'], dtype=object)"
      ]
     },
     "execution_count": 40,
     "metadata": {},
     "output_type": "execute_result"
    }
   ],
   "source": [
    "#numply array 형식으로 나옴\n",
    "df['sex'].unique()"
   ]
  },
  {
   "cell_type": "code",
   "execution_count": 42,
   "id": "55ab8d91-78f7-4ff3-91fc-a936d90a6591",
   "metadata": {},
   "outputs": [
    {
     "data": {
      "text/plain": [
       "array([211.3375, 151.55  ,  26.55  ,  77.9583,   0.    ,  51.4792,\n",
       "        49.5042, 227.525 ,  69.3   ,  78.85  ,  30.    ,  25.925 ,\n",
       "       247.5208,  76.2917,  75.2417,  52.5542, 221.7792,  26.    ,\n",
       "        91.0792, 135.6333,  35.5   ,  31.    , 164.8667, 262.375 ,\n",
       "        55.    ,  30.5   ,  50.4958,  39.6   ,  27.7208, 134.5   ,\n",
       "        26.2875,  27.4458, 512.3292,   5.    ,  47.1   , 120.    ,\n",
       "        61.175 ,  53.1   ,  86.5   ,  29.7   , 136.7792,  52.    ,\n",
       "        25.5875,  83.1583,  25.7   ,  71.    ,  71.2833,  57.    ,\n",
       "        81.8583, 106.425 ,  56.9292,  78.2667,  31.6792,  31.6833,\n",
       "       110.8833,  26.3875,  27.75  , 263.    , 133.65  ,  49.5   ,\n",
       "        79.2   ,  38.5   , 211.5   ,  59.4   ,  89.1042,  34.6542,\n",
       "        28.5   , 153.4625,  63.3583,  55.4417,  76.7292,  42.4   ,\n",
       "        83.475 ,  93.5   ,  42.5   ,  51.8625,  50.    ,  57.9792,\n",
       "        90.    ,  30.6958,  80.    ,  28.7125,  25.9292,  39.4   ,\n",
       "        45.5   , 146.5208,  82.1708,  57.75  , 113.275 ,  26.2833,\n",
       "       108.9   ,  25.7417,  61.9792,  66.6   ,  40.125 ,  55.9   ,\n",
       "        60.    ,  82.2667,  32.3208,  79.65  ,  28.5375,  33.5   ,\n",
       "        34.0208,  75.25  ,  77.2875,  61.3792,  35.    ,  24.    ,\n",
       "        13.    ,  11.5   ,  10.5   ,  12.525 ,  39.    ,  29.    ,\n",
       "        21.    ,  13.5   ,  26.25  ,  36.75  ,  73.5   ,  31.5   ,\n",
       "        23.    ,  32.5   ,  13.8583,  14.5   ,  33.    ,  65.    ,\n",
       "        16.    ,  12.275 ,  27.    ,  15.    ,  13.7917,  12.35  ,\n",
       "        10.7083,  41.5792,  12.    ,  12.875 ,  15.0458,  37.0042,\n",
       "        15.5792,  19.5   ,  14.    ,   9.6875,  30.0708,  13.8625,\n",
       "        15.05  ,  12.7375,  15.0333,  18.75  ,  12.65  ,  15.75  ,\n",
       "         7.55  ,  20.25  ,   7.65  ,   7.925 ,   7.2292,   7.25  ,\n",
       "         8.05  ,   9.475 ,   9.35  ,  18.7875,   7.8875,   7.05  ,\n",
       "         8.3   ,  22.525 ,   7.8542,  31.275 ,   7.775 ,   7.7958,\n",
       "         7.8958,  17.8   ,  31.3875,   7.225 ,  14.4583,  15.85  ,\n",
       "        19.2583,  14.4542,   7.8792,   4.0125,  56.4958,   7.75  ,\n",
       "        15.2458,  15.5   ,  16.1   ,   7.725 ,   7.0458,   7.2833,\n",
       "         7.8208,   6.75  ,   8.6625,   7.7333,   7.4958,   7.6292,\n",
       "        15.9   ,   8.1583,  10.5167,  10.1708,   6.95  ,  14.4   ,\n",
       "        24.15  ,  17.4   ,   9.5   ,  20.575 ,  12.475 ,  13.9   ,\n",
       "         6.975 ,  15.1   ,  34.375 ,   7.7417,  20.525 ,   7.85  ,\n",
       "        46.9   ,   8.3625,   9.8458,   8.85  ,  19.9667,  14.1083,\n",
       "         6.8583,   8.9625,  12.2875,   6.45  ,   7.0542,   8.1125,\n",
       "         6.4958,   8.6542,  11.1333,  23.45  ,   9.825 ,   7.125 ,\n",
       "         8.4333,   7.5208,  13.4167,   7.8292,   7.7375,  22.025 ,\n",
       "        12.1833,   9.5875,   9.4833,  25.4667,   6.4375,  15.55  ,\n",
       "         7.5792,   7.1417,  23.25  ,   7.7875,   8.0292,   8.4583,\n",
       "        15.7417,  11.2417,   7.8   ,   6.2375,   9.225 ,   3.1708,\n",
       "         8.4042,   7.3125,   9.2167,   8.6833,  21.075 ,  39.6875,\n",
       "         8.7125,  13.775 ,   7.    ,  22.3583,   8.1375,  29.125 ,\n",
       "         7.7208,  20.2125,   7.7292,   7.575 ,  69.55  ,   9.325 ,\n",
       "        21.6792,  16.7   ,   7.7792,  27.9   ,      nan,   9.8375,\n",
       "        10.4625,   8.5167,   9.8417,   9.    ,  18.    ,   7.875 ])"
      ]
     },
     "execution_count": 42,
     "metadata": {},
     "output_type": "execute_result"
    }
   ],
   "source": [
    "df['fare'].unique()"
   ]
  },
  {
   "cell_type": "code",
   "execution_count": 41,
   "id": "fa87f6a3-bcef-4a82-95a4-b94746581074",
   "metadata": {},
   "outputs": [
    {
     "data": {
      "text/plain": [
       "2"
      ]
     },
     "execution_count": 41,
     "metadata": {},
     "output_type": "execute_result"
    }
   ],
   "source": [
    "df['sex'].nunique()"
   ]
  },
  {
   "cell_type": "markdown",
   "id": "27e94131-60ea-4dca-9465-c02d8fab8b0e",
   "metadata": {},
   "source": [
    "## mode() - 최빈값"
   ]
  },
  {
   "cell_type": "code",
   "execution_count": 45,
   "id": "af861d8d-3721-4502-8b21-befa2374f39b",
   "metadata": {},
   "outputs": [
    {
     "data": {
      "text/plain": [
       "0    male\n",
       "Name: sex, dtype: object"
      ]
     },
     "execution_count": 45,
     "metadata": {},
     "output_type": "execute_result"
    }
   ],
   "source": [
    "df['sex'].mode()"
   ]
  },
  {
   "cell_type": "markdown",
   "id": "7f363c15-d2ba-474d-9711-813c8454fcf6",
   "metadata": {},
   "source": [
    "## corr() - 상관관계"
   ]
  },
  {
   "cell_type": "code",
   "execution_count": 48,
   "id": "37ac76c1-29d5-45a1-9842-ad02034644eb",
   "metadata": {},
   "outputs": [
    {
     "data": {
      "text/html": [
       "<div>\n",
       "<style scoped>\n",
       "    .dataframe tbody tr th:only-of-type {\n",
       "        vertical-align: middle;\n",
       "    }\n",
       "\n",
       "    .dataframe tbody tr th {\n",
       "        vertical-align: top;\n",
       "    }\n",
       "\n",
       "    .dataframe thead th {\n",
       "        text-align: right;\n",
       "    }\n",
       "</style>\n",
       "<table border=\"1\" class=\"dataframe\">\n",
       "  <thead>\n",
       "    <tr style=\"text-align: right;\">\n",
       "      <th></th>\n",
       "      <th>pclass</th>\n",
       "      <th>survived</th>\n",
       "      <th>age</th>\n",
       "      <th>sibsp</th>\n",
       "      <th>parch</th>\n",
       "      <th>fare</th>\n",
       "      <th>body</th>\n",
       "    </tr>\n",
       "  </thead>\n",
       "  <tbody>\n",
       "    <tr>\n",
       "      <th>pclass</th>\n",
       "      <td>1.000000</td>\n",
       "      <td>-0.312469</td>\n",
       "      <td>-0.408106</td>\n",
       "      <td>0.060832</td>\n",
       "      <td>0.018322</td>\n",
       "      <td>-0.558629</td>\n",
       "      <td>-0.034642</td>\n",
       "    </tr>\n",
       "    <tr>\n",
       "      <th>survived</th>\n",
       "      <td>-0.312469</td>\n",
       "      <td>1.000000</td>\n",
       "      <td>-0.055513</td>\n",
       "      <td>-0.027825</td>\n",
       "      <td>0.082660</td>\n",
       "      <td>0.244265</td>\n",
       "      <td>NaN</td>\n",
       "    </tr>\n",
       "    <tr>\n",
       "      <th>age</th>\n",
       "      <td>-0.408106</td>\n",
       "      <td>-0.055513</td>\n",
       "      <td>1.000000</td>\n",
       "      <td>-0.243699</td>\n",
       "      <td>-0.150917</td>\n",
       "      <td>0.178739</td>\n",
       "      <td>0.058809</td>\n",
       "    </tr>\n",
       "    <tr>\n",
       "      <th>sibsp</th>\n",
       "      <td>0.060832</td>\n",
       "      <td>-0.027825</td>\n",
       "      <td>-0.243699</td>\n",
       "      <td>1.000000</td>\n",
       "      <td>0.373587</td>\n",
       "      <td>0.160238</td>\n",
       "      <td>-0.099961</td>\n",
       "    </tr>\n",
       "    <tr>\n",
       "      <th>parch</th>\n",
       "      <td>0.018322</td>\n",
       "      <td>0.082660</td>\n",
       "      <td>-0.150917</td>\n",
       "      <td>0.373587</td>\n",
       "      <td>1.000000</td>\n",
       "      <td>0.221539</td>\n",
       "      <td>0.051099</td>\n",
       "    </tr>\n",
       "    <tr>\n",
       "      <th>fare</th>\n",
       "      <td>-0.558629</td>\n",
       "      <td>0.244265</td>\n",
       "      <td>0.178739</td>\n",
       "      <td>0.160238</td>\n",
       "      <td>0.221539</td>\n",
       "      <td>1.000000</td>\n",
       "      <td>-0.043110</td>\n",
       "    </tr>\n",
       "    <tr>\n",
       "      <th>body</th>\n",
       "      <td>-0.034642</td>\n",
       "      <td>NaN</td>\n",
       "      <td>0.058809</td>\n",
       "      <td>-0.099961</td>\n",
       "      <td>0.051099</td>\n",
       "      <td>-0.043110</td>\n",
       "      <td>1.000000</td>\n",
       "    </tr>\n",
       "  </tbody>\n",
       "</table>\n",
       "</div>"
      ],
      "text/plain": [
       "            pclass  survived       age     sibsp     parch      fare      body\n",
       "pclass    1.000000 -0.312469 -0.408106  0.060832  0.018322 -0.558629 -0.034642\n",
       "survived -0.312469  1.000000 -0.055513 -0.027825  0.082660  0.244265       NaN\n",
       "age      -0.408106 -0.055513  1.000000 -0.243699 -0.150917  0.178739  0.058809\n",
       "sibsp     0.060832 -0.027825 -0.243699  1.000000  0.373587  0.160238 -0.099961\n",
       "parch     0.018322  0.082660 -0.150917  0.373587  1.000000  0.221539  0.051099\n",
       "fare     -0.558629  0.244265  0.178739  0.160238  0.221539  1.000000 -0.043110\n",
       "body     -0.034642       NaN  0.058809 -0.099961  0.051099 -0.043110  1.000000"
      ]
     },
     "execution_count": 48,
     "metadata": {},
     "output_type": "execute_result"
    }
   ],
   "source": [
    "#str 섞여있어서 오류남\n",
    "df.corr(numeric_only = True)"
   ]
  }
 ],
 "metadata": {
  "kernelspec": {
   "display_name": "Python 3 (ipykernel)",
   "language": "python",
   "name": "python3"
  },
  "language_info": {
   "codemirror_mode": {
    "name": "ipython",
    "version": 3
   },
   "file_extension": ".py",
   "mimetype": "text/x-python",
   "name": "python",
   "nbconvert_exporter": "python",
   "pygments_lexer": "ipython3",
   "version": "3.13.5"
  }
 },
 "nbformat": 4,
 "nbformat_minor": 5
}
